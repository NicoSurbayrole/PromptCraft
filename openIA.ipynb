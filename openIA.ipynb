{
 "cells": [
  {
   "cell_type": "code",
   "execution_count": 13,
   "id": "2e9bb75b-63ea-49a5-a9e8-b7ca3ba239fa",
   "metadata": {},
   "outputs": [
    {
     "name": "stdout",
     "output_type": "stream",
     "text": [
      "La programación es el arte de dar instrucciones a una computadora para resolver problemas. Permite automatizar procesos, crear aplicaciones y desarrollar soluciones digitales que mejoran la vida cotidiana.\n",
      "\n",
      "{'error': {'message': 'Incorrect API key provided: sk-proj-********************************************************************************************************************************************************6YEA. You can find your API key at https://platform.openai.com/account/api-keys.', 'type': 'invalid_request_error', 'param': None, 'code': 'invalid_api_key'}}\n"
     ]
    }
   ],
   "source": [
    "import os\n",
    "import requests\n",
    "\n",
    "API_KEY = os.getenv(\"OPENAI_API_KEY\")\n",
    "\n",
    "if not API_KEY:\n",
    "    raise ValueError(\"⚠️ La API key no está configurada en la variable de entorno OPENAI_API_KEY\")\n",
    "\n",
    "url = \"https://api.openai.com/v1/chat/completions\"\n",
    "\n",
    "payload = {\n",
    "    \"model\": \"gpt-4o-mini\", \n",
    "    \"messages\": [{\"role\": \"user\", \"content\": \"Resume este texto en 2-3 líneas: La programación es el proceso de escribir una serie de instrucciones, o código, en un lenguaje específico para que una computadora o un dispositivo electrónico pueda ejecutar tareas y resolver problemas. Se basa en la lógica, la creatividad y la resolución de problemas, utilizando lenguajes de programación para dar vida a aplicaciones, software y sistemas que automatizan procesos, mejoran la eficiencia y crean nuevas soluciones en nuestra sociedad digita\"}],\n",
    "    \"temperature\": 0.3,\n",
    "    \"max_tokens\": 150\n",
    "}\n",
    "\n",
    "res = requests.post(\n",
    "    url,\n",
    "    headers={\"Authorization\": f\"Bearer {API_KEY}\", \"Content-Type\": \"application/json\"},\n",
    "    json=payload\n",
    ")\n",
    "\n",
    "output_de_salida_esperado_por_falta_de_tokens = \"La programación es el arte de dar instrucciones a una computadora para resolver problemas. Permite automatizar procesos, crear aplicaciones y desarrollar soluciones digitales que mejoran la vida cotidiana.\"\n",
    "\n",
    "print(output_de_salida_esperado_por_falta_de_tokens + \"\\n\")\n",
    "\n",
    "print(res.json())"
   ]
  },
  {
   "cell_type": "code",
   "execution_count": null,
   "id": "da5e1d5c-239d-4520-a435-7571bea4adda",
   "metadata": {},
   "outputs": [],
   "source": []
  }
 ],
 "metadata": {
  "kernelspec": {
   "display_name": "Python [conda env:base] *",
   "language": "python",
   "name": "conda-base-py"
  },
  "language_info": {
   "codemirror_mode": {
    "name": "ipython",
    "version": 3
   },
   "file_extension": ".py",
   "mimetype": "text/x-python",
   "name": "python",
   "nbconvert_exporter": "python",
   "pygments_lexer": "ipython3",
   "version": "3.13.5"
  }
 },
 "nbformat": 4,
 "nbformat_minor": 5
}
